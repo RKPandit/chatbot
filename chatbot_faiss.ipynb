{
 "cells": [
  {
   "cell_type": "code",
   "execution_count": 15,
   "metadata": {},
   "outputs": [],
   "source": [
    "import os\n",
    "import re\n",
    "import time\n",
    "import pandas as pd\n",
    "from openai import RateLimitError\n",
    "from langchain_openai import OpenAIEmbeddings\n",
    "from langchain_community.vectorstores.faiss import FAISS\n",
    "from langchain_core.documents import Document\n",
    "from langchain_text_splitters import CharacterTextSplitter\n",
    "from langchain_community.document_loaders import TextLoader"
   ]
  },
  {
   "cell_type": "code",
   "execution_count": 4,
   "metadata": {},
   "outputs": [],
   "source": [
    "from dotenv import load_dotenv,find_dotenv\n",
    "load_dotenv(find_dotenv())\n",
    "OpenAI_key = os.environ.get(\"OPENAI_API_KEY\")"
   ]
  },
  {
   "cell_type": "code",
   "execution_count": 16,
   "metadata": {},
   "outputs": [],
   "source": [
    "loader = TextLoader(\"state_of_the_union.txt\")\n",
    "documents = loader.load()\n",
    "text_splitter = CharacterTextSplitter(chunk_size=1000, chunk_overlap=0)\n",
    "docs = text_splitter.split_documents(documents)\n",
    "embeddings = OpenAIEmbeddings()\n",
    "db = FAISS.from_documents(docs, embeddings)"
   ]
  },
  {
   "cell_type": "code",
   "execution_count": 18,
   "metadata": {},
   "outputs": [],
   "source": [
    "# Save the vector store to a file for future use\n",
    "save_path = f\"state_of_the_union_faiss_index.faiss\"\n",
    "db.save_local(save_path)"
   ]
  },
  {
   "cell_type": "code",
   "execution_count": null,
   "metadata": {},
   "outputs": [],
   "source": []
  },
  {
   "cell_type": "code",
   "execution_count": 19,
   "metadata": {},
   "outputs": [],
   "source": [
    "import os\n",
    "import re\n",
    "from cachetools import TTLCache\n",
    "from langchain.chains import ConversationalRetrievalChain\n",
    "from langchain.memory import ConversationBufferMemory\n",
    "from langchain.prompts import ChatPromptTemplate, SystemMessagePromptTemplate, HumanMessagePromptTemplate\n",
    "from langchain_community.callbacks import get_openai_callback\n",
    "from langchain_core.messages import HumanMessage, AIMessage\n",
    "from langchain_core.prompts import PromptTemplate\n",
    "from langchain_community.vectorstores import FAISS\n",
    "from langchain_openai import OpenAIEmbeddings, ChatOpenAI"
   ]
  },
  {
   "cell_type": "code",
   "execution_count": 38,
   "metadata": {},
   "outputs": [],
   "source": [
    "\n",
    "cache = TTLCache(maxsize=100, ttl=3600)\n",
    "embeddings = OpenAIEmbeddings()\n",
    "\n",
    "\n",
    "def load_faiss_index(file_path):\n",
    "    global cache\n",
    "    cached_index = cache.get(\"faiss_index\")\n",
    "    if cached_index:\n",
    "        return cached_index\n",
    "    vectorstore = FAISS.load_local(file_path, embeddings,allow_dangerous_deserialization=True)\n",
    "    cache[\"faiss_index\"] = vectorstore\n",
    "    return vectorstore"
   ]
  },
  {
   "cell_type": "code",
   "execution_count": 67,
   "metadata": {},
   "outputs": [],
   "source": [
    "vectorstore = load_faiss_index('state_of_the_union_faiss_index.faiss')\n",
    "retriever = vectorstore.as_retriever(k=4)\n",
    "temperature = 0.2  # Fine-tune for more creative or conservative responses\n",
    "model_name = 'gpt-3.5-turbo-1106'"
   ]
  },
  {
   "cell_type": "code",
   "execution_count": 41,
   "metadata": {},
   "outputs": [],
   "source": [
    "system_template = \"\"\"\n",
    "Here's what I know:\n",
    "\n",
    "Context: {context}\n",
    "Conversation so far: {chat_history}\n",
    "Your question: {question}\n",
    "\"\"\""
   ]
  },
  {
   "cell_type": "code",
   "execution_count": 43,
   "metadata": {},
   "outputs": [],
   "source": [
    "prompt = ChatPromptTemplate.from_messages(\n",
    "    messages=[\n",
    "        SystemMessagePromptTemplate(\n",
    "            prompt=PromptTemplate(input_variables=[\"context\", \"chat_history\", \"question\"],\n",
    "                                    template=system_template)),\n",
    "        HumanMessagePromptTemplate.from_template(\"{question}\")\n",
    "    ]\n",
    ")"
   ]
  },
  {
   "cell_type": "code",
   "execution_count": 45,
   "metadata": {},
   "outputs": [],
   "source": [
    "memory = ConversationBufferMemory(memory_key=\"chat_history\", return_messages=True, output_key='answer')"
   ]
  },
  {
   "cell_type": "code",
   "execution_count": 48,
   "metadata": {},
   "outputs": [],
   "source": [
    "qa_chain = ConversationalRetrievalChain.from_llm(llm=ChatOpenAI(model=model_name, temperature=temperature),\n",
    "                                                  retriever=retriever, \n",
    "                                                  verbose=False,\n",
    "                                                              memory=memory,\n",
    "                                                              combine_docs_chain_kwargs={\"prompt\": prompt})"
   ]
  },
  {
   "cell_type": "code",
   "execution_count": 57,
   "metadata": {},
   "outputs": [],
   "source": [
    "def optimize_user_input( text):\n",
    "    text = re.sub(r'[^\\w\\s]', '', text) \n",
    "    text = re.sub(r'\\s+', ' ', text).strip() \n",
    "    return text"
   ]
  },
  {
   "cell_type": "code",
   "execution_count": 58,
   "metadata": {},
   "outputs": [],
   "source": [
    "def predict( query):\n",
    "    optimized_query = optimize_user_input(query)\n",
    "    cache_key = f\"response_{optimized_query}\"\n",
    "\n",
    "    cached_response = cache.get(cache_key)\n",
    "    if cached_response:\n",
    "        return cached_response\n",
    "\n",
    "    user_message = HumanMessage(content=optimized_query)\n",
    "    memory.chat_memory.add_message(user_message)\n",
    "    response = qa_chain.invoke({\"question\": optimized_query})\n",
    "    ai_response = AIMessage(content=response['answer'])\n",
    "    memory.chat_memory.add_message(ai_response)\n",
    "\n",
    "    cache[cache_key] = response['answer']\n",
    "    return response['answer']"
   ]
  },
  {
   "cell_type": "code",
   "execution_count": 64,
   "metadata": {},
   "outputs": [],
   "source": [
    "user_input = 'What was  Vladimir Putins  action?'"
   ]
  },
  {
   "cell_type": "code",
   "execution_count": 65,
   "metadata": {},
   "outputs": [
    {
     "data": {
      "text/plain": [
       "\"Based on the context provided, Vladimir Putin's recent actions regarding Ukraine are the focus. Some of his specific actions include the premeditated and unprovoked attack on Ukraine, the rejection of repeated efforts at diplomacy, and the belief that the West and NATO wouldn't respond to his aggression. Additionally, the speech mentions that the free world is holding him accountable through economic sanctions, cutting off Russia's largest banks from the international financial system, and preventing Russia's central bank from defending the Russian Ruble. These actions have led to Russia being isolated from the world and facing significant economic consequences. If you have specific questions about any of these actions or policies, feel free to ask for more information.\""
      ]
     },
     "execution_count": 65,
     "metadata": {},
     "output_type": "execute_result"
    }
   ],
   "source": [
    "predict(query=user_input)"
   ]
  },
  {
   "cell_type": "code",
   "execution_count": 66,
   "metadata": {},
   "outputs": [
    {
     "data": {
      "text/plain": [
       "{'question': 'What was  Vladimir Putins  action?',\n",
       " 'chat_history': [HumanMessage(content='What did Vladimir Putin said'),\n",
       "  HumanMessage(content='What did Vladimir Putin said'),\n",
       "  AIMessage(content=\"I'm sorry, but I don't have direct access to Vladimir Putin's statements. However, based on the context provided, it seems that Vladimir Putin's actions and decisions are being discussed, rather than his specific statements. If you have any specific questions about his actions or policies, feel free to ask and I'll do my best to provide information based on the context given.\"),\n",
       "  AIMessage(content=\"I'm sorry, but I don't have direct access to Vladimir Putin's statements. However, based on the context provided, it seems that Vladimir Putin's actions and decisions are being discussed, rather than his specific statements. If you have any specific questions about his actions or policies, feel free to ask and I'll do my best to provide information based on the context given.\"),\n",
       "  HumanMessage(content='What did Vladimir Putin said?'),\n",
       "  AIMessage(content='What specific actions or policies of Vladimir Putin are you interested in learning more about? Are you looking for information on his recent actions regarding Ukraine, his foreign policy decisions, domestic policies, or any other specific aspect of his leadership? Let me know so I can provide you with relevant information.'),\n",
       "  HumanMessage(content='What was Vladimir Putins action'),\n",
       "  HumanMessage(content='What was Vladimir Putins action'),\n",
       "  AIMessage(content=\"Based on the context provided, Vladimir Putin's recent actions regarding Ukraine are the focus. Some of his specific actions include the premeditated and unprovoked attack on Ukraine, the rejection of repeated efforts at diplomacy, and the belief that the West and NATO wouldn't respond to his aggression. Additionally, the speech mentions that the free world is holding him accountable through economic sanctions, cutting off Russia's largest banks from the international financial system, and preventing Russia's central bank from defending the Russian Ruble. These actions have led to Russia being isolated from the world and facing significant economic consequences. If you have specific questions about any of these actions or policies, feel free to ask for more information.\"),\n",
       "  AIMessage(content=\"Based on the context provided, Vladimir Putin's recent actions regarding Ukraine are the focus. Some of his specific actions include the premeditated and unprovoked attack on Ukraine, the rejection of repeated efforts at diplomacy, and the belief that the West and NATO wouldn't respond to his aggression. Additionally, the speech mentions that the free world is holding him accountable through economic sanctions, cutting off Russia's largest banks from the international financial system, and preventing Russia's central bank from defending the Russian Ruble. These actions have led to Russia being isolated from the world and facing significant economic consequences. If you have specific questions about any of these actions or policies, feel free to ask for more information.\"),\n",
       "  HumanMessage(content='What was  Vladimir Putins  action?'),\n",
       "  AIMessage(content=\"Vladimir Putin has taken several specific actions regarding Ukraine, including:\\n\\n1. Premeditated and unprovoked attack: Putin initiated a premeditated and unprovoked attack on Ukraine, leading to a military invasion and the unleashing of violence and chaos.\\n\\n2. Rejection of diplomacy: Despite repeated efforts at diplomacy, Putin rejected diplomatic solutions and chose to pursue military aggression against Ukraine.\\n\\n3. Attempt to divide the West and NATO: Putin believed that the West and NATO wouldn't respond to his aggression and thought he could divide them at home.\\n\\n4. Justification of aggression: Putin attempted to falsely justify his aggression, but the free world countered Russia's lies with truth and is holding him accountable for his actions.\\n\\nThese actions have led to significant consequences for Russia, including economic isolation, loss of value in the Ruble, and the imposition of powerful economic sanctions by the free world.\")],\n",
       " 'answer': \"Vladimir Putin has taken several specific actions regarding Ukraine, including:\\n\\n1. Premeditated and unprovoked attack: Putin initiated a premeditated and unprovoked attack on Ukraine, leading to a military invasion and the unleashing of violence and chaos.\\n\\n2. Rejection of diplomacy: Despite repeated efforts at diplomacy, Putin rejected diplomatic solutions and chose to pursue military aggression against Ukraine.\\n\\n3. Attempt to divide the West and NATO: Putin believed that the West and NATO wouldn't respond to his aggression and thought he could divide them at home.\\n\\n4. Justification of aggression: Putin attempted to falsely justify his aggression, but the free world countered Russia's lies with truth and is holding him accountable for his actions.\\n\\nThese actions have led to significant consequences for Russia, including economic isolation, loss of value in the Ruble, and the imposition of powerful economic sanctions by the free world.\"}"
      ]
     },
     "execution_count": 66,
     "metadata": {},
     "output_type": "execute_result"
    }
   ],
   "source": [
    "qa_chain.invoke({\"question\": user_input})"
   ]
  },
  {
   "cell_type": "code",
   "execution_count": 68,
   "metadata": {},
   "outputs": [
    {
     "data": {
      "text/plain": [
       "{'question': 'Tell me about Putin’s latest attack on Ukraine?',\n",
       " 'chat_history': [HumanMessage(content='What did Vladimir Putin said'),\n",
       "  HumanMessage(content='What did Vladimir Putin said'),\n",
       "  AIMessage(content=\"I'm sorry, but I don't have direct access to Vladimir Putin's statements. However, based on the context provided, it seems that Vladimir Putin's actions and decisions are being discussed, rather than his specific statements. If you have any specific questions about his actions or policies, feel free to ask and I'll do my best to provide information based on the context given.\"),\n",
       "  AIMessage(content=\"I'm sorry, but I don't have direct access to Vladimir Putin's statements. However, based on the context provided, it seems that Vladimir Putin's actions and decisions are being discussed, rather than his specific statements. If you have any specific questions about his actions or policies, feel free to ask and I'll do my best to provide information based on the context given.\"),\n",
       "  HumanMessage(content='What did Vladimir Putin said?'),\n",
       "  AIMessage(content='What specific actions or policies of Vladimir Putin are you interested in learning more about? Are you looking for information on his recent actions regarding Ukraine, his foreign policy decisions, domestic policies, or any other specific aspect of his leadership? Let me know so I can provide you with relevant information.'),\n",
       "  HumanMessage(content='What was Vladimir Putins action'),\n",
       "  HumanMessage(content='What was Vladimir Putins action'),\n",
       "  AIMessage(content=\"Based on the context provided, Vladimir Putin's recent actions regarding Ukraine are the focus. Some of his specific actions include the premeditated and unprovoked attack on Ukraine, the rejection of repeated efforts at diplomacy, and the belief that the West and NATO wouldn't respond to his aggression. Additionally, the speech mentions that the free world is holding him accountable through economic sanctions, cutting off Russia's largest banks from the international financial system, and preventing Russia's central bank from defending the Russian Ruble. These actions have led to Russia being isolated from the world and facing significant economic consequences. If you have specific questions about any of these actions or policies, feel free to ask for more information.\"),\n",
       "  AIMessage(content=\"Based on the context provided, Vladimir Putin's recent actions regarding Ukraine are the focus. Some of his specific actions include the premeditated and unprovoked attack on Ukraine, the rejection of repeated efforts at diplomacy, and the belief that the West and NATO wouldn't respond to his aggression. Additionally, the speech mentions that the free world is holding him accountable through economic sanctions, cutting off Russia's largest banks from the international financial system, and preventing Russia's central bank from defending the Russian Ruble. These actions have led to Russia being isolated from the world and facing significant economic consequences. If you have specific questions about any of these actions or policies, feel free to ask for more information.\"),\n",
       "  HumanMessage(content='What was  Vladimir Putins  action?'),\n",
       "  AIMessage(content=\"Vladimir Putin has taken several specific actions regarding Ukraine, including:\\n\\n1. Premeditated and unprovoked attack: Putin initiated a premeditated and unprovoked attack on Ukraine, leading to a military invasion and the unleashing of violence and chaos.\\n\\n2. Rejection of diplomacy: Despite repeated efforts at diplomacy, Putin rejected diplomatic solutions and chose to pursue military aggression against Ukraine.\\n\\n3. Attempt to divide the West and NATO: Putin believed that the West and NATO wouldn't respond to his aggression and thought he could divide them at home.\\n\\n4. Justification of aggression: Putin attempted to falsely justify his aggression, but the free world countered Russia's lies with truth and is holding him accountable for his actions.\\n\\nThese actions have led to significant consequences for Russia, including economic isolation, loss of value in the Ruble, and the imposition of powerful economic sanctions by the free world.\"),\n",
       "  HumanMessage(content='Tell me about Putin’s latest attack on Ukraine?'),\n",
       "  AIMessage(content=\"Vladimir Putin's latest attack on Ukraine involved a premeditated and unprovoked military invasion, which led to the unleashing of violence and chaos in Ukraine. Despite repeated efforts at diplomacy, Putin rejected diplomatic solutions and chose to pursue military aggression against Ukraine. He believed that the West and NATO wouldn't respond to his aggression and thought he could divide them at home. Additionally, Putin attempted to falsely justify his aggression, but the free world countered Russia's lies with truth and is holding him accountable for his actions. As a result, the free world, including the United States and its allies, has taken significant actions to support Ukraine and impose consequences on Russia, including economic isolation, loss of value in the Ruble, and the imposition of powerful economic sanctions.\")],\n",
       " 'answer': \"Vladimir Putin's latest attack on Ukraine involved a premeditated and unprovoked military invasion, which led to the unleashing of violence and chaos in Ukraine. Despite repeated efforts at diplomacy, Putin rejected diplomatic solutions and chose to pursue military aggression against Ukraine. He believed that the West and NATO wouldn't respond to his aggression and thought he could divide them at home. Additionally, Putin attempted to falsely justify his aggression, but the free world countered Russia's lies with truth and is holding him accountable for his actions. As a result, the free world, including the United States and its allies, has taken significant actions to support Ukraine and impose consequences on Russia, including economic isolation, loss of value in the Ruble, and the imposition of powerful economic sanctions.\"}"
      ]
     },
     "execution_count": 68,
     "metadata": {},
     "output_type": "execute_result"
    }
   ],
   "source": [
    "\n",
    "user_input = 'Tell me about Putin’s latest attack on Ukraine?'\n",
    "qa_chain.invoke({\"question\": user_input})"
   ]
  }
 ],
 "metadata": {
  "kernelspec": {
   "display_name": "Python 3",
   "language": "python",
   "name": "python3"
  },
  "language_info": {
   "codemirror_mode": {
    "name": "ipython",
    "version": 3
   },
   "file_extension": ".py",
   "mimetype": "text/x-python",
   "name": "python",
   "nbconvert_exporter": "python",
   "pygments_lexer": "ipython3",
   "version": "3.11.8"
  }
 },
 "nbformat": 4,
 "nbformat_minor": 2
}
